{
 "cells": [
  {
   "attachments": {},
   "cell_type": "markdown",
   "metadata": {},
   "source": [
    "# Packages"
   ]
  },
  {
   "cell_type": "code",
   "execution_count": 67,
   "metadata": {},
   "outputs": [],
   "source": [
    "import numpy as np\n",
    "import matplotlib.pyplot as plt\n"
   ]
  },
  {
   "attachments": {},
   "cell_type": "markdown",
   "metadata": {},
   "source": [
    "# Exploration"
   ]
  },
  {
   "attachments": {},
   "cell_type": "markdown",
   "metadata": {},
   "source": [
    "#### Toy Dictionary"
   ]
  },
  {
   "cell_type": "code",
   "execution_count": 2,
   "metadata": {},
   "outputs": [],
   "source": [
    "questions = {\n",
    "    1: {\n",
    "        \"question\": \"What is the capital of France?\",\n",
    "        \"options\": [(\"A\", \"Paris\"), (\"B\", \"London\"), (\"C\", \"Rome\"), (\"D\", \"Berlin\")],\n",
    "        \"answer\": \"A\"\n",
    "    },\n",
    "    2: {\n",
    "        \"question\": \"Which planet is known as the Red Planet?\",\n",
    "        \"options\": [(\"A\", \"Mars\"), (\"B\", \"Jupiter\"), (\"C\", \"Saturn\"), (\"D\", \"Venus\")],\n",
    "        \"answer\": \"A\"\n",
    "    },\n",
    "    3: {\n",
    "        \"question\": \"What is the chemical symbol for gold?\",\n",
    "        \"options\": [(\"A\", \"Go\"), (\"B\", \"Ag\"), (\"C\", \"Au\"), (\"D\", \"Hg\")],\n",
    "        \"answer\": \"C\"\n",
    "    },\n",
    "    4: {\n",
    "        \"question\": \"What is the largest ocean in the world?\",\n",
    "        \"options\": [(\"A\", \"Atlantic Ocean\"), (\"B\", \"Indian Ocean\"), (\"C\", \"Arctic Ocean\"), (\"D\", \"Pacific Ocean\")],\n",
    "        \"answer\": \"D\"\n",
    "    },\n",
    "    5: {\n",
    "        \"question\": \"Who painted the Mona Lisa?\",\n",
    "        \"options\": [(\"A\", \"Leonardo da Vinci\"), (\"B\", \"Pablo Picasso\"), (\"C\", \"Vincent van Gogh\"), (\"D\", \"Claude Monet\")],\n",
    "        \"answer\": \"A\"\n",
    "    },\n",
    "    6: {\n",
    "        \"question\": \"What is the square root of 64?\",\n",
    "        \"options\": [(\"A\", \"8\"), (\"B\", \"4\"), (\"C\", \"16\"), (\"D\", \"6\")],\n",
    "        \"answer\": \"A\"\n",
    "    },\n",
    "    7: {\n",
    "        \"question\": \"Which country is known as the Land of the Rising Sun?\",\n",
    "        \"options\": [(\"A\", \"China\"), (\"B\", \"Thailand\"), (\"C\", \"Japan\"), (\"D\", \"Australia\")],\n",
    "        \"answer\": \"C\"\n",
    "    },\n",
    "    8: {\n",
    "        \"question\": \"Which is the longest river in the world?\",\n",
    "        \"options\": [(\"A\", \"Amazon River\"), (\"B\", \"Nile River\"), (\"C\", \"Yangtze River\"), (\"D\", \"Mississippi River\")],\n",
    "        \"answer\": \"B\"\n",
    "    },\n",
    "    9: {\n",
    "        \"question\": \"Who wrote the play 'Romeo and Juliet'?\",\n",
    "        \"options\": [(\"A\", \"William Shakespeare\"), (\"B\", \"George Orwell\"), (\"C\", \"J.R.R. Tolkien\"), (\"D\", \"Mark Twain\")],\n",
    "        \"answer\": \"A\"\n",
    "    },\n",
    "    10: {\n",
    "        \"question\": \"What is the largest organ in the human body?\",\n",
    "        \"options\": [(\"A\", \"Liver\"), (\"B\", \"Brain\"), (\"C\", \"Heart\"), (\"D\", \"Skin\")],\n",
    "        \"answer\": \"D\"\n",
    "    }\n",
    "}"
   ]
  },
  {
   "cell_type": "code",
   "execution_count": 3,
   "metadata": {},
   "outputs": [
    {
     "name": "stdout",
     "output_type": "stream",
     "text": [
      "What is the capital of France?\n",
      "Options:\n",
      "A) Paris\n",
      "B) London\n",
      "C) Rome\n",
      "D) Berlin\n",
      "Correct Answer: A\n"
     ]
    }
   ],
   "source": [
    "# Accessing question 1\n",
    "question_1 = questions[1][\"question\"]\n",
    "options_1 = questions[1][\"options\"]\n",
    "answer_1 = questions[1][\"answer\"]\n",
    "\n",
    "print(question_1)\n",
    "print(\"Options:\")\n",
    "for option in options_1:\n",
    "    option_letter, option_text = option\n",
    "    print(f\"{option_letter}) {option_text}\")\n",
    "print(\"Correct Answer:\", answer_1)\n"
   ]
  },
  {
   "cell_type": "code",
   "execution_count": 13,
   "metadata": {},
   "outputs": [
    {
     "data": {
      "text/plain": [
       "10"
      ]
     },
     "execution_count": 13,
     "metadata": {},
     "output_type": "execute_result"
    }
   ],
   "source": [
    "np.random.randint(1,11)\n"
   ]
  },
  {
   "cell_type": "code",
   "execution_count": 18,
   "metadata": {},
   "outputs": [],
   "source": [
    "player_answer = \"A\""
   ]
  },
  {
   "cell_type": "code",
   "execution_count": 17,
   "metadata": {},
   "outputs": [
    {
     "name": "stdout",
     "output_type": "stream",
     "text": [
      "Wrong. Wait for your next turn\n"
     ]
    }
   ],
   "source": [
    "if player_answer == answer_1:\n",
    "    print(\"Correct Answer!\")\n",
    "else:\n",
    "    print(\"Wrong. Wait for your next turn\")"
   ]
  },
  {
   "cell_type": "code",
   "execution_count": null,
   "metadata": {},
   "outputs": [],
   "source": [
    "class MyClass:\n",
    "    # function definition in class\n",
    "    # first argument is self\n",
    "\n",
    "    def my_method(self, other_args, ...):\n",
    "        # do things here...\n",
    "\n",
    "\n",
    "    def my_methods2(self, my_attr):\n",
    "        # attribute created by assignment\n",
    "        self.my_attr = my_attr\n",
    "        ...\n",
    "\n",
    "obj = MyClass()\n",
    "obj.my_method1(val1) # <-- attr1 created\n",
    "obj.my_method2(val2) # <-- attr2 created\n"
   ]
  },
  {
   "cell_type": "code",
   "execution_count": null,
   "metadata": {},
   "outputs": [],
   "source": [
    "class Game:\n",
    "    \"\"\"\n",
    "    Class Game \n",
    "    \"\"\"\n",
    "    "
   ]
  },
  {
   "cell_type": "code",
   "execution_count": 56,
   "metadata": {},
   "outputs": [],
   "source": [
    "class Game:\n",
    "    \"\"\"\n",
    "    Class Game \n",
    "    \"\"\"\n",
    "\n",
    "    # Falta adicional min_score = 0\n",
    "\n",
    "\n",
    "    def question(self,questions):\n",
    "        question_number = np.random.randint(1,11)\n",
    "        question = questions[question_number][\"question\"]\n",
    "        options = questions[question_number][\"options\"]\n",
    "        self.correct_answer = questions[question_number][\"answer\"]\n",
    "        print(question)\n",
    "        print(\"Options:\")\n",
    "        for option in options:\n",
    "            option_letter, option_text = option\n",
    "            print(f\"{option_letter}) {option_text}\")\n",
    "\n",
    "\n",
    "    def choose_answer(self, player_answer):\n",
    "        if player_answer == self.correct_answer:\n",
    "            print(\"Yes! Correct Answer!\")\n",
    "        else:\n",
    "            print(\"Oh no! Wrong Answer. Wait for your next turn\")\n",
    "\n",
    "\n"
   ]
  },
  {
   "cell_type": "code",
   "execution_count": 57,
   "metadata": {},
   "outputs": [],
   "source": [
    "game1 = Game()"
   ]
  },
  {
   "cell_type": "code",
   "execution_count": 64,
   "metadata": {},
   "outputs": [
    {
     "name": "stdout",
     "output_type": "stream",
     "text": [
      "What is the chemical symbol for gold?\n",
      "Options:\n",
      "A) Go\n",
      "B) Ag\n",
      "C) Au\n",
      "D) Hg\n"
     ]
    }
   ],
   "source": [
    "game1.question(questions)"
   ]
  },
  {
   "cell_type": "code",
   "execution_count": 66,
   "metadata": {},
   "outputs": [
    {
     "name": "stdout",
     "output_type": "stream",
     "text": [
      "Yes! Correct Answer!\n"
     ]
    }
   ],
   "source": [
    "game1.choose_answer(\"C\")"
   ]
  },
  {
   "attachments": {},
   "cell_type": "markdown",
   "metadata": {},
   "source": [
    "# Board Part"
   ]
  },
  {
   "cell_type": "code",
   "execution_count": 68,
   "metadata": {},
   "outputs": [
    {
     "data": {
      "text/plain": [
       "<Figure size 720x720 with 0 Axes>"
      ]
     },
     "metadata": {},
     "output_type": "display_data"
    }
   ],
   "source": [
    "fig = plt.figure(figsize=[10,10])"
   ]
  },
  {
   "cell_type": "code",
   "execution_count": 69,
   "metadata": {},
   "outputs": [],
   "source": [
    "plt.show()"
   ]
  },
  {
   "cell_type": "code",
   "execution_count": null,
   "metadata": {},
   "outputs": [],
   "source": [
    "import numpy as np\n",
    "\n",
    "\n",
    "\n",
    "test_questions_json = [\n",
    "  {\n",
    "    \"question_id\": 1,\n",
    "    \"difficulty\": 1,\n",
    "    \"question\": \"What is the capital of France?\",\n",
    "    \"options\": {\n",
    "      \"A\": \"Berlin\",\n",
    "      \"B\": \"Madrid\",\n",
    "      \"C\": \"Paris\",\n",
    "      \"D\": \"Rome\"\n",
    "    },\n",
    "    \"correct_answer\": \"C\"\n",
    "  },\n",
    "  {\n",
    "    \"question_id\": 2,\n",
    "    \"difficulty\": 2,\n",
    "    \"question\": \"Who wrote 'Hamlet'?\",\n",
    "    \"options\": {\n",
    "      \"A\": \"Charles Dickens\",\n",
    "      \"B\": \"William Shakespeare\",\n",
    "      \"C\": \"Leo Tolstoy\",\n",
    "      \"D\": \"Mark Twain\"\n",
    "    },\n",
    "    \"correct_answer\": \"B\"\n",
    "  }\n",
    "]\n",
    "\n",
    "class Game:\n",
    "\n",
    "    def __init__(self):\n",
    "        pass\n",
    "\n",
    "    def start_game(self):\n",
    "        print('Welcome to Who Wants do be a Millionaire?')\n",
    "\n",
    "        #self.player1_name = \n",
    "        player_name = input('Please enter your: ')\n",
    "        self.player1 = player_name\n",
    "        print(f\"Hello {player_name}! Let's start the game!\")\n",
    "\n",
    "\n",
    "    \n",
    "\n",
    "\n",
    "class Player:\n",
    "\n",
    "    def __init__(self, name):\n",
    "        self.name = name\n",
    "        self.score = 0\n",
    "\n",
    "    def update_score(self, move):\n",
    "        if move == 'up':\n",
    "            self.score += 1\n",
    "        elif move == 'down':\n",
    "            self.score -= 1\n",
    "        else:\n",
    "            self.score = self.score\n",
    "\n",
    "\n",
    "#class question:\n",
    "#    def __init__(self):\n",
    "\n",
    "    "
   ]
  },
  {
   "cell_type": "code",
   "execution_count": 9,
   "metadata": {},
   "outputs": [],
   "source": [
    "game1 = Game()"
   ]
  },
  {
   "cell_type": "code",
   "execution_count": 10,
   "metadata": {},
   "outputs": [
    {
     "name": "stdout",
     "output_type": "stream",
     "text": [
      "Welcome to Who Wants do be a Millionaire?\n",
      "Hello Joao! Let's start the game!\n"
     ]
    }
   ],
   "source": [
    "game1.start_game()"
   ]
  },
  {
   "cell_type": "code",
   "execution_count": null,
   "metadata": {},
   "outputs": [],
   "source": []
  }
 ],
 "metadata": {
  "kernelspec": {
   "display_name": "my_kaggle_env",
   "language": "python",
   "name": "python3"
  },
  "language_info": {
   "codemirror_mode": {
    "name": "ipython",
    "version": 3
   },
   "file_extension": ".py",
   "mimetype": "text/x-python",
   "name": "python",
   "nbconvert_exporter": "python",
   "pygments_lexer": "ipython3",
   "version": "3.10.13"
  },
  "orig_nbformat": 4
 },
 "nbformat": 4,
 "nbformat_minor": 2
}
